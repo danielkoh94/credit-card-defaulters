{
 "cells": [
  {
   "cell_type": "markdown",
   "metadata": {},
   "source": [
    "First we import the Libraries needed"
   ]
  },
  {
   "cell_type": "code",
   "execution_count": 1,
   "metadata": {},
   "outputs": [],
   "source": [
    "import numpy as np\n",
    "import pandas as pd\n",
    "import scipy\n",
    "import sklearn as sk\n",
    "import matplotlib.pyplot as plt\n",
    "import math\n",
    "import pickle"
   ]
  },
  {
   "cell_type": "markdown",
   "metadata": {},
   "source": [
    "Load DataSet"
   ]
  },
  {
   "cell_type": "code",
   "execution_count": 3,
   "metadata": {},
   "outputs": [
    {
     "name": "stdout",
     "output_type": "stream",
     "text": [
      "(30000, 81)\n",
      "(30000, 1)\n"
     ]
    }
   ],
   "source": [
    "file = 'UCI_Credit_Card_encoded.csv'\n",
    "file1 = 'UCI_Credit_Cardcleaned.csv'\n",
    "output = 'output.csv'\n",
    "\n",
    "file_data = pd.read_csv(file, header = None)\n",
    "output_data = pd.read_csv(output,header=None,names=['y'])\n",
    "\n",
    "trg_x = file_data[0:18000]\n",
    "trg_y = output_data[0:18000]\n",
    "test_x = file_data[18000:]\n",
    "test_y = output_data[18000:]\n",
    "test = np.array(test_y)\n",
    "y = np.array(output_data)\n",
    "print(file_data.shape)\n",
    "print(output_data.shape)"
   ]
  },
  {
   "cell_type": "code",
   "execution_count": 4,
   "metadata": {},
   "outputs": [
    {
     "name": "stdout",
     "output_type": "stream",
     "text": [
      "12000\n",
      "Number of correct predictions: 8778\n",
      "Accuracy: 0.7315 \n"
     ]
    }
   ],
   "source": [
    "from sklearn import tree\n",
    "\n",
    "clf = sk.tree.DecisionTreeClassifier()\n",
    "clf = clf.fit(trg_x, trg_y)\n",
    "prediction = clf.predict(test_x)\n",
    "print(len(prediction))\n",
    "correct = 0\n",
    "for i in range(12000):\n",
    "    if (prediction[i] == test[i]):\n",
    "        correct +=1\n",
    "        \n",
    "accuracy = correct/test_y.shape[0]\n",
    "print(\"Number of correct predictions: %s\" %correct)\n",
    "print(\"Accuracy: %s \" %accuracy )"
   ]
  },
  {
   "cell_type": "code",
   "execution_count": null,
   "metadata": {},
   "outputs": [
    {
     "name": "stderr",
     "output_type": "stream",
     "text": [
      "/Users/daniel/anaconda3/lib/python3.6/site-packages/sklearn/utils/validation.py:578: DataConversionWarning: A column-vector y was passed when a 1d array was expected. Please change the shape of y to (n_samples, ), for example using ravel().\n",
      "  y = column_or_1d(y, warn=True)\n"
     ]
    }
   ],
   "source": [
    "from sklearn import svm\n",
    "\n",
    "clf_svm = svm.SVC(kernel = 'linear')\n",
    "clf_svm.fit(trg_x, trg_y)\n",
    "prediction_svm = clf_svm.predict(test_x)\n",
    "correct_svm = 0\n",
    "for i in range(12000):\n",
    "    if (prediction_svm[i] == test[i]):\n",
    "        correct_svm +=1\n",
    "accuracy_svm = correct_svm/test_y.shape[0]        \n",
    "print(\"Number of correct predictions: %s\" %correct_svm)\n",
    "print(\"Accuracy: %s \" %accuracy_svm)"
   ]
  },
  {
   "cell_type": "code",
   "execution_count": 22,
   "metadata": {},
   "outputs": [
    {
     "name": "stderr",
     "output_type": "stream",
     "text": [
      "C:\\Users\\wen kai\\Anaconda3\\lib\\site-packages\\sklearn\\ensemble\\weight_boosting.py:29: DeprecationWarning: numpy.core.umath_tests is an internal NumPy module and should not be imported. It will be removed in a future NumPy release.\n",
      "  from numpy.core.umath_tests import inner1d\n",
      "C:\\Users\\wen kai\\Anaconda3\\lib\\site-packages\\sklearn\\utils\\validation.py:578: DataConversionWarning: A column-vector y was passed when a 1d array was expected. Please change the shape of y to (n_samples, ), for example using ravel().\n",
      "  y = column_or_1d(y, warn=True)\n"
     ]
    },
    {
     "name": "stdout",
     "output_type": "stream",
     "text": [
      "Number of correct predictions: 10016\n",
      "Accuracy: 0.8346666666666667 \n"
     ]
    }
   ],
   "source": [
    "from sklearn.ensemble import AdaBoostClassifier\n",
    "from sklearn.model_selection import cross_val_score\n",
    "\n",
    "clf_boost = AdaBoostClassifier(n_estimators=1000, algorithm = 'SAMME')\n",
    "#scores = cross_val_score(clf_boost, X, Y)\n",
    "#scores.mean()\n",
    "clf_boost.fit(trg_x, trg_y)\n",
    "predict_boost = clf_boost.predict(test_x)\n",
    "\n",
    "correct_boost = 0\n",
    "for i in range(12000):\n",
    "    if (predict_boost[i] == test[i]):\n",
    "        correct_boost +=1\n",
    "accuracy_boost = correct_boost/test_y.shape[0]        \n",
    "print(\"Number of correct predictions: %s\" %correct_boost)\n",
    "print(\"Accuracy: %s \" %accuracy_boost)\n"
   ]
  },
  {
   "cell_type": "code",
   "execution_count": 31,
   "metadata": {
    "scrolled": true
   },
   "outputs": [
    {
     "name": "stderr",
     "output_type": "stream",
     "text": [
      "C:\\Users\\wen kai\\Anaconda3\\lib\\site-packages\\ipykernel_launcher.py:4: DataConversionWarning: A column-vector y was passed when a 1d array was expected. Please change the shape of y to (n_samples,), for example using ravel().\n",
      "  after removing the cwd from sys.path.\n"
     ]
    },
    {
     "name": "stdout",
     "output_type": "stream",
     "text": [
      "Number of correct predictions: 9956\n",
      "Accuracy: 0.8296666666666667 \n"
     ]
    }
   ],
   "source": [
    "from sklearn.ensemble import RandomForestClassifier\n",
    "\n",
    "clf_forest = RandomForestClassifier(n_estimators = 1000)\n",
    "clf_forest.fit(trg_x, trg_y)\n",
    "predict_f = clf_forest.predict(test_x)\n",
    "correct_f = 0\n",
    "for i in range(12000):\n",
    "    if (predict_f[i] == test[i]):\n",
    "        correct_f +=1\n",
    "accuracy_f = correct_f/test_y.shape[0]        \n",
    "print(\"Number of correct predictions: %s\" %correct_f)\n",
    "print(\"Accuracy: %s \" %accuracy_f)"
   ]
  },
  {
   "cell_type": "markdown",
   "metadata": {},
   "source": [
    "we save the classifiers"
   ]
  },
  {
   "cell_type": "code",
   "execution_count": 6,
   "metadata": {},
   "outputs": [],
   "source": [
    "filename_tree = \"tree-classifier.sav\"\n",
    "filename_svm = \"svm.sav\"\n",
    "filename_ada = \"adaboost.sav\"\n",
    "filename_randomforest = \"randomforest.sav\"\n",
    "\n",
    "# pickle.dump(clf,open(filename_tree, 'wb'))\n",
    "# pickle.dump(clf_boost,open(filename_ada, 'wb'))\n",
    "# pickle.dump(clf_forest,open(filename_randomforest, 'wb'))\n"
   ]
  },
  {
   "cell_type": "markdown",
   "metadata": {},
   "source": [
    "we load the classifiers"
   ]
  },
  {
   "cell_type": "code",
   "execution_count": 7,
   "metadata": {},
   "outputs": [
    {
     "name": "stderr",
     "output_type": "stream",
     "text": [
      "C:\\Users\\wen kai\\Anaconda3\\lib\\site-packages\\sklearn\\ensemble\\weight_boosting.py:29: DeprecationWarning: numpy.core.umath_tests is an internal NumPy module and should not be imported. It will be removed in a future NumPy release.\n",
      "  from numpy.core.umath_tests import inner1d\n"
     ]
    }
   ],
   "source": [
    "# decision tree classifier\n",
    "clf_tree = pickle.load(open(filename_tree, 'rb'))\n",
    "# adaboost classifier\n",
    "clf_ada = pickle.load(open(filename_ada, 'rb'))"
   ]
  },
  {
   "cell_type": "code",
   "execution_count": null,
   "metadata": {},
   "outputs": [],
   "source": []
  }
 ],
 "metadata": {
  "kernelspec": {
   "display_name": "Python 3",
   "language": "python",
   "name": "python3"
  },
  "language_info": {
   "codemirror_mode": {
    "name": "ipython",
    "version": 3
   },
   "file_extension": ".py",
   "mimetype": "text/x-python",
   "name": "python",
   "nbconvert_exporter": "python",
   "pygments_lexer": "ipython3",
   "version": "3.7.2"
  }
 },
 "nbformat": 4,
 "nbformat_minor": 2
}
